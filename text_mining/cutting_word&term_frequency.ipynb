{
 "cells": [
  {
   "cell_type": "markdown",
   "metadata": {},
   "source": [
    "## cutting word & term frequency"
   ]
  },
  {
   "cell_type": "code",
   "execution_count": 1,
   "metadata": {},
   "outputs": [
    {
     "data": {
      "text/plain": [
       "['You', 'are', 'a', 'good', 'person.']"
      ]
     },
     "execution_count": 1,
     "metadata": {},
     "output_type": "execute_result"
    }
   ],
   "source": [
    "# 英文句子\n",
    "text = \"You are a good person.\"\n",
    "text.split()"
   ]
  },
  {
   "cell_type": "code",
   "execution_count": 2,
   "metadata": {},
   "outputs": [],
   "source": [
    "import jieba"
   ]
  },
  {
   "cell_type": "code",
   "execution_count": 4,
   "metadata": {},
   "outputs": [
    {
     "name": "stdout",
     "output_type": "stream",
     "text": [
      "乒乓球拍\n",
      "賣\n",
      "完\n",
      "了\n"
     ]
    }
   ],
   "source": [
    "# 中文句子\n",
    "sentence = \"乒乓球拍賣完了\"\n",
    "cutted = jieba.cut(sentence)\n",
    "for word in cutted:\n",
    "    print(word)"
   ]
  },
  {
   "cell_type": "code",
   "execution_count": 12,
   "metadata": {
    "scrolled": false
   },
   "outputs": [],
   "source": [
    "with open('news.txt') as f:\n",
    "    news = f.read()\n",
    "    \n",
    "cutted = jieba.lcut(news)\n",
    "# cutted"
   ]
  },
  {
   "cell_type": "code",
   "execution_count": 10,
   "metadata": {},
   "outputs": [
    {
     "data": {
      "text/plain": [
       "'韓國瑜聲量正轉負關鍵字：「五點聲明」\\n分享分享留言列印\\nA-A+\\n2019-05-26 13:19聯合報 記者林麗玉╱即時報導\\n\\n2020總統大選，國民黨韓郭朱王之爭結果未定，民進黨蔡賴對決陷僵局，還有民調漸提升的白色力量柯文哲在後虎視眈眈，表明要等杜鵑啼、八月再決定是否參選。\\n\\n這場2020之爭，藍綠白各有意角逐者廝殺激烈，原本民調、網路聲量一枝獨秀的韓國瑜，近期不僅網路聲量從第一，已跌落神壇，逐漸被蔡英文追上；負評更超越正評，根據Quickseek輿情大數據顯示，韓國瑜網路評論由正轉負的最大關鍵字，就是從4月23日「五點聲明」開始。\\n\\n根據Quickseek輿情大數據顯示，韓國瑜的網路聲量從今年3月中開始，網路討論的負面則數幾乎都超過正面，尤其4月20日的「國軍太監說」，負評數大幅攀升，接下來4月23日「五點聲明」更是由正轉負的最大關鍵字、還有黃捷翻白眼負評大幅攀升。黃捷翻白眼更戳破韓國瑜的一個點，就是讓韓國瑜從「民心網紅」、讓大家開始去檢視高雄市政。\\n\\nQuickseek輿情大數據也顯示，「高雄發大財」這個關鍵字，偏藍支持者談「發大財」的機率越來越小，倒是偏綠講「發大財」的機率越來越高，發大財的意思被改用為「酸」、「膨風」之意，拿來嘲笑、反韓國瑜用詞，由正向的關鍵字變成負面的關鍵字。\\n\\n另外，根據網路溫度計的大數據統計，台北市長柯文哲的網路聲量，近一個月來略微提升，尤其前總統陳水扁口述歷史新書發表，扁柯5月5日同台當日，柯談扁獄中遭遇一度哽咽，更讓柯網路聲量創下近期新高達4萬多筆，另外柯嗆王世堅的垃圾說、訪日密集行程，也讓柯維持討論熱度。北市府副發言人柯昱安認為，只要是議會備詢、報告期間，柯的網路聲量就會竄起，接下來柯的行銷宣傳，將不再走與網紅同框、衝網路聲量的老路，接下來是要建立自己的品牌，打造柯文哲勤勞、認真、會施政的品牌形象。'"
      ]
     },
     "execution_count": 10,
     "metadata": {},
     "output_type": "execute_result"
    }
   ],
   "source": [
    "news"
   ]
  },
  {
   "cell_type": "code",
   "execution_count": 22,
   "metadata": {},
   "outputs": [],
   "source": [
    "from collections import Counter\n",
    "\n",
    "# Counter 可以快速幫我們統計一個 list 裡面的 element 出現的次數\n",
    "cutted_counter = Counter(cutted)\n",
    "# cutted_counter"
   ]
  },
  {
   "cell_type": "code",
   "execution_count": 28,
   "metadata": {},
   "outputs": [],
   "source": [
    "sorted_couter = sorted(cutted_counter.items(), key=lambda x: x[1], reverse=True)\n",
    "# sorted_couter"
   ]
  }
 ],
 "metadata": {
  "kernelspec": {
   "display_name": "Python 3",
   "language": "python",
   "name": "python3"
  },
  "language_info": {
   "codemirror_mode": {
    "name": "ipython",
    "version": 3
   },
   "file_extension": ".py",
   "mimetype": "text/x-python",
   "name": "python",
   "nbconvert_exporter": "python",
   "pygments_lexer": "ipython3",
   "version": "3.7.1"
  }
 },
 "nbformat": 4,
 "nbformat_minor": 2
}
